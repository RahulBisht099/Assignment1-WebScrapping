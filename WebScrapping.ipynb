from selenium import webdriver
from selenium.webdriver.chrome.service import Service
from webdriver_manager.chrome import ChromeDriverManager
from bs4 import BeautifulSoup
import psycopg2
import csv
import time

# ✅ Step 1: Loading the contests page
driver = webdriver.Chrome(service=Service(ChromeDriverManager().install()))
driver.get("https://www.codechef.com/contests")
time.sleep(10)  # Waiting for JS to load
html = driver.page_source
driver.quit()

# ✅ Step 2: Parsing with BeautifulSoup
soup = BeautifulSoup(html, "html.parser")
tables = soup.find_all("table")

contests = []

if len(tables) >= 1:
    upcoming_table = tables[0]
    rows = upcoming_table.find_all("tr")[1:]

    for row in rows:
        cols = row.find_all("td")
        if len(cols) >= 4:
            contest = {
                "Contest Code": cols[0].text.strip(),
                "Name": cols[1].text.strip(),
                "Start Date": cols[2].text.strip(),
                "End Date": cols[3].text.strip()
            }
            contests.append(contest)
else:
    print("❌ No Upcoming Contests table found.")

# ✅ Step 3: Print contests on screen
print("\n📅 Upcoming CodeChef Contests:\n")
if contests:
    for c in contests:
        print(f"Name: {c['Name']} ({c['Contest Code']})")
        print(f"Start: {c['Start Date']} | End: {c['End Date']}")
        print("-" * 50)
else:
    print("⚠️ No contest data found to display.")

# ✅ Step 4: Inserting data into Neon PostgreSQL
if contests:
    try:
        dsn = "postgresql:// ADD YOUR CONNECTION STRING"

        conn = psycopg2.connect(dsn)
        cur = conn.cursor()

        # Create table if not exists
        cur.execute("""
        CREATE TABLE IF NOT EXISTS codechef_contests (
            id SERIAL PRIMARY KEY,
            contest_code TEXT,
            name TEXT,
            start_date TEXT,
            end_date TEXT
        )
        """)

        # Insert all contests
        for c in contests:
            cur.execute("""
                INSERT INTO codechef_contests (contest_code, name, start_date, end_date)
                VALUES (%s, %s, %s, %s)
            """, (c["Contest Code"], c["Name"], c["Start Date"], c["End Date"]))

        conn.commit()
        cur.close()
        conn.close()

        print("✅ Successfully saved contests to PostgreSQL!")
    except Exception as e:
        print("❌ Database error:", e)
else:
    print("⚠️ No contest data to insert.")

# ✅ Step 5: Export contest data to CSV
with open("codechef_upcoming_contests.csv", mode='w', newline='', encoding='utf-8') as file:
    writer = csv.DictWriter(file, fieldnames=["Contest Code", "Name", "Start Date", "End Date"])
    writer.writeheader()
    writer.writerows(contests)

print("📄 CSV file 'codechef_upcoming_contests.csv' created successfully!")
